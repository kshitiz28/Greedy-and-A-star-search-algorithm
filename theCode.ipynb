{
 "cells": [
  {
   "cell_type": "code",
   "execution_count": 12,
   "id": "312bd69c",
   "metadata": {},
   "outputs": [],
   "source": [
    "import pandas as pd\n",
    "import seaborn as sns\n",
    "import matplotlib.pyplot as plt\n",
    "import numpy as np\n",
    "import random\n",
    "from ipywidgets import Dropdown, Button, Image"
   ]
  },
  {
   "cell_type": "markdown",
   "id": "e8ade358",
   "metadata": {},
   "source": [
    "## Importing the Datasets"
   ]
  },
  {
   "cell_type": "code",
   "execution_count": 2,
   "id": "64e49aa4",
   "metadata": {},
   "outputs": [],
   "source": [
    "roadDistance = pd.read_csv('Dataset/RoadDistance.csv')\n",
    "straightDistance = pd.read_csv('Dataset/StraightDistance.csv')"
   ]
  },
  {
   "cell_type": "markdown",
   "id": "efa4add2",
   "metadata": {},
   "source": [
    "### Pre-processing the datasets"
   ]
  },
  {
   "cell_type": "code",
   "execution_count": 3,
   "id": "9cad2a53",
   "metadata": {},
   "outputs": [],
   "source": [
    "roadDistance.index = roadDistance[\"Unnamed: 0\"]\n",
    "roadDistance.drop([\"Unnamed: 0\"], axis=1, inplace=True)\n",
    "roadDistance.index.name = ''\n",
    "##########\n",
    "straightDistance.index = straightDistance[\"Unnamed: 0\"]\n",
    "straightDistance.drop([\"Unnamed: 0\"], axis=1, inplace=True)\n",
    "straightDistance.index.name = ''"
   ]
  },
  {
   "cell_type": "markdown",
   "id": "5b07f912",
   "metadata": {},
   "source": [
    "### Datasets after preprocessing"
   ]
  },
  {
   "cell_type": "code",
   "execution_count": 4,
   "id": "c89fc00e",
   "metadata": {},
   "outputs": [
    {
     "data": {
      "text/html": [
       "<div>\n",
       "<style scoped>\n",
       "    .dataframe tbody tr th:only-of-type {\n",
       "        vertical-align: middle;\n",
       "    }\n",
       "\n",
       "    .dataframe tbody tr th {\n",
       "        vertical-align: top;\n",
       "    }\n",
       "\n",
       "    .dataframe thead th {\n",
       "        text-align: right;\n",
       "    }\n",
       "</style>\n",
       "<table border=\"1\" class=\"dataframe\">\n",
       "  <thead>\n",
       "    <tr style=\"text-align: right;\">\n",
       "      <th></th>\n",
       "      <th>PashupatinathTemple</th>\n",
       "      <th>BoudhanathStupa</th>\n",
       "      <th>SwayambhunathStupa</th>\n",
       "      <th>Thamel</th>\n",
       "      <th>HanumanDhokaTemple</th>\n",
       "      <th>BuddhaNilkanth</th>\n",
       "      <th>IndraChowk</th>\n",
       "      <th>DakshinkaliTemple</th>\n",
       "      <th>NationalBotanicalGardens</th>\n",
       "      <th>SetoMachendranathTemple</th>\n",
       "      <th>...</th>\n",
       "      <th>PatanDurbarSquare</th>\n",
       "      <th>Nagarkot</th>\n",
       "      <th>Chandragiri</th>\n",
       "      <th>Bhaktapur</th>\n",
       "      <th>Dhulikhel</th>\n",
       "      <th>Kirtipur</th>\n",
       "      <th>Phulchoki</th>\n",
       "      <th>Kulekhani</th>\n",
       "      <th>NamoBuddha</th>\n",
       "      <th>Kakani</th>\n",
       "    </tr>\n",
       "    <tr>\n",
       "      <th></th>\n",
       "      <th></th>\n",
       "      <th></th>\n",
       "      <th></th>\n",
       "      <th></th>\n",
       "      <th></th>\n",
       "      <th></th>\n",
       "      <th></th>\n",
       "      <th></th>\n",
       "      <th></th>\n",
       "      <th></th>\n",
       "      <th></th>\n",
       "      <th></th>\n",
       "      <th></th>\n",
       "      <th></th>\n",
       "      <th></th>\n",
       "      <th></th>\n",
       "      <th></th>\n",
       "      <th></th>\n",
       "      <th></th>\n",
       "      <th></th>\n",
       "      <th></th>\n",
       "    </tr>\n",
       "  </thead>\n",
       "  <tbody>\n",
       "    <tr>\n",
       "      <th>PashupatinathTemple</th>\n",
       "      <td>0.0</td>\n",
       "      <td>2.1</td>\n",
       "      <td>NaN</td>\n",
       "      <td>NaN</td>\n",
       "      <td>5.0</td>\n",
       "      <td>8.8</td>\n",
       "      <td>NaN</td>\n",
       "      <td>NaN</td>\n",
       "      <td>NaN</td>\n",
       "      <td>NaN</td>\n",
       "      <td>...</td>\n",
       "      <td>NaN</td>\n",
       "      <td>NaN</td>\n",
       "      <td>NaN</td>\n",
       "      <td>13.4</td>\n",
       "      <td>NaN</td>\n",
       "      <td>NaN</td>\n",
       "      <td>NaN</td>\n",
       "      <td>NaN</td>\n",
       "      <td>NaN</td>\n",
       "      <td>NaN</td>\n",
       "    </tr>\n",
       "    <tr>\n",
       "      <th>BoudhanathStupa</th>\n",
       "      <td>2.1</td>\n",
       "      <td>0.0</td>\n",
       "      <td>NaN</td>\n",
       "      <td>NaN</td>\n",
       "      <td>NaN</td>\n",
       "      <td>7.4</td>\n",
       "      <td>NaN</td>\n",
       "      <td>NaN</td>\n",
       "      <td>NaN</td>\n",
       "      <td>NaN</td>\n",
       "      <td>...</td>\n",
       "      <td>NaN</td>\n",
       "      <td>NaN</td>\n",
       "      <td>NaN</td>\n",
       "      <td>NaN</td>\n",
       "      <td>NaN</td>\n",
       "      <td>NaN</td>\n",
       "      <td>NaN</td>\n",
       "      <td>NaN</td>\n",
       "      <td>NaN</td>\n",
       "      <td>NaN</td>\n",
       "    </tr>\n",
       "    <tr>\n",
       "      <th>SwayambhunathStupa</th>\n",
       "      <td>NaN</td>\n",
       "      <td>NaN</td>\n",
       "      <td>0.0</td>\n",
       "      <td>NaN</td>\n",
       "      <td>NaN</td>\n",
       "      <td>NaN</td>\n",
       "      <td>NaN</td>\n",
       "      <td>21.7</td>\n",
       "      <td>NaN</td>\n",
       "      <td>NaN</td>\n",
       "      <td>...</td>\n",
       "      <td>NaN</td>\n",
       "      <td>NaN</td>\n",
       "      <td>10.7</td>\n",
       "      <td>NaN</td>\n",
       "      <td>NaN</td>\n",
       "      <td>9.4</td>\n",
       "      <td>NaN</td>\n",
       "      <td>NaN</td>\n",
       "      <td>NaN</td>\n",
       "      <td>NaN</td>\n",
       "    </tr>\n",
       "    <tr>\n",
       "      <th>Thamel</th>\n",
       "      <td>NaN</td>\n",
       "      <td>NaN</td>\n",
       "      <td>NaN</td>\n",
       "      <td>0.0</td>\n",
       "      <td>1.6</td>\n",
       "      <td>NaN</td>\n",
       "      <td>1.60</td>\n",
       "      <td>NaN</td>\n",
       "      <td>NaN</td>\n",
       "      <td>1.8</td>\n",
       "      <td>...</td>\n",
       "      <td>NaN</td>\n",
       "      <td>NaN</td>\n",
       "      <td>NaN</td>\n",
       "      <td>NaN</td>\n",
       "      <td>NaN</td>\n",
       "      <td>NaN</td>\n",
       "      <td>NaN</td>\n",
       "      <td>NaN</td>\n",
       "      <td>NaN</td>\n",
       "      <td>NaN</td>\n",
       "    </tr>\n",
       "    <tr>\n",
       "      <th>HanumanDhokaTemple</th>\n",
       "      <td>5.0</td>\n",
       "      <td>NaN</td>\n",
       "      <td>NaN</td>\n",
       "      <td>1.6</td>\n",
       "      <td>0.0</td>\n",
       "      <td>NaN</td>\n",
       "      <td>0.29</td>\n",
       "      <td>19.3</td>\n",
       "      <td>16.7</td>\n",
       "      <td>NaN</td>\n",
       "      <td>...</td>\n",
       "      <td>NaN</td>\n",
       "      <td>NaN</td>\n",
       "      <td>NaN</td>\n",
       "      <td>NaN</td>\n",
       "      <td>NaN</td>\n",
       "      <td>NaN</td>\n",
       "      <td>NaN</td>\n",
       "      <td>NaN</td>\n",
       "      <td>NaN</td>\n",
       "      <td>NaN</td>\n",
       "    </tr>\n",
       "  </tbody>\n",
       "</table>\n",
       "<p>5 rows × 23 columns</p>\n",
       "</div>"
      ],
      "text/plain": [
       "                     PashupatinathTemple  BoudhanathStupa  SwayambhunathStupa  \\\n",
       "                                                                                \n",
       "PashupatinathTemple                  0.0              2.1                 NaN   \n",
       "BoudhanathStupa                      2.1              0.0                 NaN   \n",
       "SwayambhunathStupa                   NaN              NaN                 0.0   \n",
       "Thamel                               NaN              NaN                 NaN   \n",
       "HanumanDhokaTemple                   5.0              NaN                 NaN   \n",
       "\n",
       "                     Thamel  HanumanDhokaTemple  BuddhaNilkanth  IndraChowk  \\\n",
       "                                                                              \n",
       "PashupatinathTemple     NaN                 5.0             8.8         NaN   \n",
       "BoudhanathStupa         NaN                 NaN             7.4         NaN   \n",
       "SwayambhunathStupa      NaN                 NaN             NaN         NaN   \n",
       "Thamel                  0.0                 1.6             NaN        1.60   \n",
       "HanumanDhokaTemple      1.6                 0.0             NaN        0.29   \n",
       "\n",
       "                     DakshinkaliTemple  NationalBotanicalGardens  \\\n",
       "                                                                   \n",
       "PashupatinathTemple                NaN                       NaN   \n",
       "BoudhanathStupa                    NaN                       NaN   \n",
       "SwayambhunathStupa                21.7                       NaN   \n",
       "Thamel                             NaN                       NaN   \n",
       "HanumanDhokaTemple                19.3                      16.7   \n",
       "\n",
       "                     SetoMachendranathTemple  ...  PatanDurbarSquare  \\\n",
       "                                              ...                      \n",
       "PashupatinathTemple                      NaN  ...                NaN   \n",
       "BoudhanathStupa                          NaN  ...                NaN   \n",
       "SwayambhunathStupa                       NaN  ...                NaN   \n",
       "Thamel                                   1.8  ...                NaN   \n",
       "HanumanDhokaTemple                       NaN  ...                NaN   \n",
       "\n",
       "                     Nagarkot  Chandragiri  Bhaktapur  Dhulikhel  Kirtipur  \\\n",
       "                                                                             \n",
       "PashupatinathTemple       NaN          NaN       13.4        NaN       NaN   \n",
       "BoudhanathStupa           NaN          NaN        NaN        NaN       NaN   \n",
       "SwayambhunathStupa        NaN         10.7        NaN        NaN       9.4   \n",
       "Thamel                    NaN          NaN        NaN        NaN       NaN   \n",
       "HanumanDhokaTemple        NaN          NaN        NaN        NaN       NaN   \n",
       "\n",
       "                     Phulchoki  Kulekhani  NamoBuddha  Kakani  \n",
       "                                                               \n",
       "PashupatinathTemple        NaN        NaN         NaN     NaN  \n",
       "BoudhanathStupa            NaN        NaN         NaN     NaN  \n",
       "SwayambhunathStupa         NaN        NaN         NaN     NaN  \n",
       "Thamel                     NaN        NaN         NaN     NaN  \n",
       "HanumanDhokaTemple         NaN        NaN         NaN     NaN  \n",
       "\n",
       "[5 rows x 23 columns]"
      ]
     },
     "execution_count": 4,
     "metadata": {},
     "output_type": "execute_result"
    }
   ],
   "source": [
    "# straightDistance.head()\n",
    "roadDistance.head()"
   ]
  },
  {
   "cell_type": "code",
   "execution_count": 5,
   "id": "5ebe41c8",
   "metadata": {},
   "outputs": [],
   "source": [
    "def getDistance(df, from_, to_):\n",
    "    dis = df.loc[from_][to_]\n",
    "    return dis"
   ]
  },
  {
   "cell_type": "code",
   "execution_count": 6,
   "id": "dfa9e80e",
   "metadata": {},
   "outputs": [
    {
     "name": "stdout",
     "output_type": "stream",
     "text": [
      "\n",
      "With Greedy:\n",
      "['Kulekhani', 'DakshinkaliTemple', 'SwayambhunathStupa', 'Chandragiri']\n",
      "[0, 27.5, 21.7, 10.7]\n",
      "Total Cost = 59.900000000000006\n"
     ]
    }
   ],
   "source": [
    "class Greedy:\n",
    "    def __init__(self, adjMat, heuristicMat, from_, to_):\n",
    "        self.adjMat = adjMat\n",
    "        self.from_ = from_\n",
    "        self.to_ = to_\n",
    "        self.heuristicMat = heuristicMat\n",
    "        self.shortDistances = self.createShortestDistanceDf()\n",
    "        \n",
    "#         self.visited = [self.from_]\n",
    "        self.costs = [0]\n",
    "        self.mainAlgorithm()\n",
    "    \n",
    "    def mainAlgorithm(self):\n",
    "        currentNode = self.from_\n",
    "        self.visited = [currentNode]\n",
    "        for step in range(25):\n",
    "            possibleNextNodes = roadDistance[[currentNode]].query(f\"{currentNode} > 0\")\n",
    "            for nextNode in self.shortDistances.index:\n",
    "                if nextNode in possibleNextNodes.index and nextNode not in self.visited:\n",
    "                    self.costs.append(getDistance(self.adjMat, currentNode, nextNode))\n",
    "                    currentNode = nextNode\n",
    "                    self.visited.append(currentNode)\n",
    "                    break\n",
    "            if currentNode == self.to_:\n",
    "                break\n",
    "        print(f'\\nWith Greedy:\\n{self.visited}\\n{self.costs}\\nTotal Cost = {sum(self.costs)}')\n",
    "                    \n",
    "    def createShortestDistanceDf(self):\n",
    "        places = []\n",
    "        straightDistances = []\n",
    "\n",
    "        for node in self.heuristicMat.index:\n",
    "            places.append(node)\n",
    "            straightDistances.append(getDistance(straightDistance, self.to_, node))\n",
    "\n",
    "        return pd.DataFrame({'sd': straightDistances}, index=places)['sd'].sort_values()\n",
    "\n",
    "G = Greedy(roadDistance, straightDistance, 'Kulekhani', 'Kakani')"
   ]
  },
  {
   "cell_type": "code",
   "execution_count": null,
   "id": "9ec8be04",
   "metadata": {},
   "outputs": [],
   "source": []
  },
  {
   "cell_type": "code",
   "execution_count": 7,
   "id": "6e69539c",
   "metadata": {},
   "outputs": [
    {
     "name": "stdout",
     "output_type": "stream",
     "text": [
      "\n",
      "With A*:\n",
      "Visited: ['Kulekhani', 'DakshinkaliTemple', 'HanumanDhokaTemple', 'PashupatinathTemple', 'BoudhanathStupa', 'BuddhaNilkanth', 'Kakani']\n",
      "Corresponding Cost: [0, 9.96, 0.257, 4.12, 1.68, 4.91, 13.59]\n",
      "Total Cost = 34.516999999999996\n"
     ]
    }
   ],
   "source": [
    "class Astar:\n",
    "    def __init__(self, adjMat, heuristicMat, from_, to_):\n",
    "        self.adjMat = adjMat\n",
    "        self.from_ = from_\n",
    "        self.to_ = to_\n",
    "        self.heuristicMat = heuristicMat\n",
    "        self.shortDistances = self.createShortestDistanceDf()\n",
    "        \n",
    "        self.visited = [self.from_]\n",
    "        self.costs = [0]\n",
    "        self.mainAlgorithm()\n",
    "    \n",
    "    def mainAlgorithm(self):\n",
    "        currentNode = self.from_\n",
    "        self.visited = []\n",
    "        for step in range(25):\n",
    "            nextNodes = roadDistance[[currentNode]].query(f\"{currentNode} > 0\")\n",
    "            c, p, g_h = [], [], []\n",
    "            for cost, place in zip(self.shortDistances, self.shortDistances.index):\n",
    "                if place in nextNodes.index and place not in self.visited:\n",
    "                    c.append(cost)\n",
    "                    p.append(place)\n",
    "                    g = getDistance(self.heuristicMat, currentNode, place)\n",
    "                    h = cost\n",
    "                    g_h.append(g+h)\n",
    "            self.g_hCostDf = pd.DataFrame({'g_h':g_h}, index=p).sort_values('g_h')\n",
    "            nextNode = self.g_hCostDf.index[0]\n",
    "            self.visited.append(currentNode)\n",
    "            self.costs.append(getDistance(self.heuristicMat, currentNode, nextNode))\n",
    "            currentNode = nextNode\n",
    "\n",
    "            \n",
    "            if currentNode == self.to_:\n",
    "                self.visited.append(currentNode)\n",
    "                break\n",
    "        print(f'\\nWith A*:\\nVisited: {self.visited}\\nCorresponding Cost: {self.costs}\\nTotal Cost = {sum(self.costs)}')\n",
    "                    \n",
    "    def createShortestDistanceDf(self):\n",
    "        places = []\n",
    "        straightDistances = []\n",
    "\n",
    "        for node in self.heuristicMat.index:\n",
    "            places.append(node)\n",
    "            straightDistances.append(getDistance(straightDistance, self.to_, node))\n",
    "\n",
    "        return pd.DataFrame({'sd': straightDistances}, index=places)['sd'].sort_values()\n",
    "\n",
    "A = Astar(roadDistance, straightDistance, 'Kulekhani', 'Kakani')"
   ]
  },
  {
   "cell_type": "code",
   "execution_count": 24,
   "id": "44c58535",
   "metadata": {
    "scrolled": true
   },
   "outputs": [
    {
     "data": {
      "application/vnd.jupyter.widget-view+json": {
       "model_id": "840bd33bcab2423fa06b9189c563d63b",
       "version_major": 2,
       "version_minor": 0
      },
      "text/plain": [
       "Dropdown(description='Source', options=('BoudhanathStupa', 'SwayambhunathStupa', 'Thamel', 'HanumanDhokaTemple…"
      ]
     },
     "metadata": {},
     "output_type": "display_data"
    },
    {
     "data": {
      "application/vnd.jupyter.widget-view+json": {
       "model_id": "c1cb3aa1317f4fb6babf5370a2c79a05",
       "version_major": 2,
       "version_minor": 0
      },
      "text/plain": [
       "Dropdown(description='Destination', options=('PashupatinathTemple', 'BoudhanathStupa', 'SwayambhunathStupa', '…"
      ]
     },
     "metadata": {},
     "output_type": "display_data"
    },
    {
     "data": {
      "application/vnd.jupyter.widget-view+json": {
       "model_id": "69b757fe9a554919a54f60615d06c4fb",
       "version_major": 2,
       "version_minor": 0
      },
      "text/plain": [
       "Button(description='Search With A*', style=ButtonStyle())"
      ]
     },
     "metadata": {},
     "output_type": "display_data"
    },
    {
     "data": {
      "application/vnd.jupyter.widget-view+json": {
       "model_id": "19898941fc5c4bc687f09360417bb3dd",
       "version_major": 2,
       "version_minor": 0
      },
      "text/plain": [
       "Button(description='Search With Greedy', style=ButtonStyle())"
      ]
     },
     "metadata": {},
     "output_type": "display_data"
    }
   ],
   "source": [
    "destination = Dropdown(description = \"Destination\", options=straightDistance.index)\n",
    "source = Dropdown(description = \"Source\", options=straightDistance.index.drop(destination.value))\n",
    "AS = Button(description=\"Search With A*\")\n",
    "GA = Button(description=\"Search With Greedy\")\n",
    "display(source)\n",
    "display(destination)\n",
    "display(AS)\n",
    "display(GA)\n",
    "\n",
    "def searchWithAstar(arg):\n",
    "    Astar(roadDistance, straightDistance, source.value, destination.value)\n",
    "def searchWithGreedy(arg):\n",
    "    Greedy(roadDistance, straightDistance, source.value, destination.value)\n",
    "\n",
    "AS.on_click(searchWithAstar)\n",
    "GA.on_click(searchWithGreedy)\n",
    "\n",
    "#Kulekhani to Kakani Greedy's Algo defect"
   ]
  },
  {
   "attachments": {},
   "cell_type": "markdown",
   "id": "3d0f5375",
   "metadata": {},
   "source": [
    "<img src=\"KathmanduMap.png\" alt=\"drawing\" width=\"70%\"/>"
   ]
  }
 ],
 "metadata": {
  "kernelspec": {
   "display_name": "Python 3 (ipykernel)",
   "language": "python",
   "name": "python3"
  },
  "language_info": {
   "codemirror_mode": {
    "name": "ipython",
    "version": 3
   },
   "file_extension": ".py",
   "mimetype": "text/x-python",
   "name": "python",
   "nbconvert_exporter": "python",
   "pygments_lexer": "ipython3",
   "version": "3.8.9"
  },
  "vscode": {
   "interpreter": {
    "hash": "8b2e37b41e001ca1129809f0c88577fc595d7813eddff4f14ec8461c07872299"
   }
  }
 },
 "nbformat": 4,
 "nbformat_minor": 5
}
